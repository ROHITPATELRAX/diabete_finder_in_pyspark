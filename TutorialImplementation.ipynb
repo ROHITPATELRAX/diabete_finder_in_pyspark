{
 "cells": [
  {
   "cell_type": "code",
   "execution_count": 1,
   "metadata": {},
   "outputs": [],
   "source": [
    "from pyspark.sql import SparkSession\n",
    "from pyspark.ml.feature import VectorAssembler\n",
    "from pyspark.ml.regression import LinearRegression\n",
    "from pyspark.ml.regression import RandomForestRegressor\n",
    "from pyspark.ml.evaluation import RegressionEvaluator"
   ]
  },
  {
   "cell_type": "code",
   "execution_count": 2,
   "metadata": {},
   "outputs": [
    {
     "name": "stderr",
     "output_type": "stream",
     "text": [
      "Setting default log level to \"WARN\".\n",
      "To adjust logging level use sc.setLogLevel(newLevel). For SparkR, use setLogLevel(newLevel).\n"
     ]
    },
    {
     "name": "stdout",
     "output_type": "stream",
     "text": [
      "22/12/30 15:33:10 WARN NativeCodeLoader: Unable to load native-hadoop library for your platform... using builtin-java classes where applicable\n",
      "22/12/30 15:33:15 WARN Utils: Service 'SparkUI' could not bind on port 4040. Attempting port 4041.\n"
     ]
    }
   ],
   "source": [
    "spark=SparkSession.builder.appName('Tutorial Objective').getOrCreate()"
   ]
  },
  {
   "cell_type": "code",
   "execution_count": 24,
   "metadata": {},
   "outputs": [
    {
     "name": "stdout",
     "output_type": "stream",
     "text": [
      "+-----------+-------+-------------+-------------+-------+----+------------------------+---+-------+\n",
      "|Pregnancies|Glucose|BloodPressure|SkinThickness|Insulin| BMI|DiabetesPedigreeFunction|Age|Outcome|\n",
      "+-----------+-------+-------------+-------------+-------+----+------------------------+---+-------+\n",
      "|          6|    148|           72|           35|      0|33.6|                   0.627| 50|      1|\n",
      "|          1|     85|           66|           29|      0|26.6|                   0.351| 31|      0|\n",
      "|          8|    183|           64|            0|      0|23.3|                   0.672| 32|      1|\n",
      "|          1|     89|           66|           23|     94|28.1|                   0.167| 21|      0|\n",
      "|          0|    137|           40|           35|    168|43.1|                   2.288| 33|      1|\n",
      "|          5|    116|           74|            0|      0|25.6|                   0.201| 30|      0|\n",
      "|          3|     78|           50|           32|     88|  31|                   0.248| 26|      1|\n",
      "|         10|    115|            0|            0|      0|35.3|                   0.134| 29|      0|\n",
      "|          2|    197|           70|           45|    543|30.5|                   0.158| 53|      1|\n",
      "|          8|    125|           96|            0|      0|   0|                   0.232| 54|      1|\n",
      "|          4|    110|           92|            0|      0|37.6|                   0.191| 30|      0|\n",
      "|         10|    168|           74|            0|      0|  38|                   0.537| 34|      1|\n",
      "|         10|    139|           80|            0|      0|27.1|                   1.441| 57|      0|\n",
      "|          1|    189|           60|           23|    846|30.1|                   0.398| 59|      1|\n",
      "|          5|    166|           72|           19|    175|25.8|                   0.587| 51|      1|\n",
      "|          7|    100|            0|            0|      0|  30|                   0.484| 32|      1|\n",
      "|          0|    118|           84|           47|    230|45.8|                   0.551| 31|      1|\n",
      "|          7|    107|           74|            0|      0|29.6|                   0.254| 31|      1|\n",
      "|          1|    103|           30|           38|     83|43.3|                   0.183| 33|      0|\n",
      "|          1|    115|           70|           30|     96|34.6|                   0.529| 32|      1|\n",
      "+-----------+-------+-------------+-------------+-------+----+------------------------+---+-------+\n",
      "only showing top 20 rows\n",
      "\n"
     ]
    }
   ],
   "source": [
    "dataframe=spark.read.csv('diabetes.csv',header=True)\n",
    "dataframe.show()"
   ]
  },
  {
   "cell_type": "code",
   "execution_count": 25,
   "metadata": {},
   "outputs": [],
   "source": [
    "from pyspark.sql.functions import col,count,when,isnull"
   ]
  },
  {
   "cell_type": "code",
   "execution_count": 29,
   "metadata": {},
   "outputs": [],
   "source": [
    "typcast_df=dataframe.select(\n",
    "    *(col(c).cast('float') for c in dataframe.columns)\n",
    ")"
   ]
  },
  {
   "cell_type": "code",
   "execution_count": 30,
   "metadata": {},
   "outputs": [
    {
     "name": "stdout",
     "output_type": "stream",
     "text": [
      "root\n",
      " |-- Pregnancies: float (nullable = true)\n",
      " |-- Glucose: float (nullable = true)\n",
      " |-- BloodPressure: float (nullable = true)\n",
      " |-- SkinThickness: float (nullable = true)\n",
      " |-- Insulin: float (nullable = true)\n",
      " |-- BMI: float (nullable = true)\n",
      " |-- DiabetesPedigreeFunction: float (nullable = true)\n",
      " |-- Age: float (nullable = true)\n",
      " |-- Outcome: float (nullable = true)\n",
      "\n"
     ]
    }
   ],
   "source": [
    "typcast_df.printSchema()"
   ]
  },
  {
   "cell_type": "code",
   "execution_count": 31,
   "metadata": {},
   "outputs": [
    {
     "name": "stdout",
     "output_type": "stream",
     "text": [
      "+-----------------------------------------------------------+---------------------------------------------------+---------------------------------------------------------------+---------------------------------------------------------------+---------------------------------------------------+-------------------------------------------+-------------------------------------------------------------------------------------+-------------------------------------------+---------------------------------------------------+\n",
      "|count(CASE WHEN (Pregnancies IS NULL) THEN Pregnancies END)|count(CASE WHEN (Glucose IS NULL) THEN Glucose END)|count(CASE WHEN (BloodPressure IS NULL) THEN BloodPressure END)|count(CASE WHEN (SkinThickness IS NULL) THEN SkinThickness END)|count(CASE WHEN (Insulin IS NULL) THEN Insulin END)|count(CASE WHEN (BMI IS NULL) THEN BMI END)|count(CASE WHEN (DiabetesPedigreeFunction IS NULL) THEN DiabetesPedigreeFunction END)|count(CASE WHEN (Age IS NULL) THEN Age END)|count(CASE WHEN (Outcome IS NULL) THEN Outcome END)|\n",
      "+-----------------------------------------------------------+---------------------------------------------------+---------------------------------------------------------------+---------------------------------------------------------------+---------------------------------------------------+-------------------------------------------+-------------------------------------------------------------------------------------+-------------------------------------------+---------------------------------------------------+\n",
      "|                                                          0|                                                  0|                                                              0|                                                              0|                                                  0|                                          0|                                                                                    0|                                          0|                                                  0|\n",
      "+-----------------------------------------------------------+---------------------------------------------------+---------------------------------------------------------------+---------------------------------------------------------------+---------------------------------------------------+-------------------------------------------+-------------------------------------------------------------------------------------+-------------------------------------------+---------------------------------------------------+\n",
      "\n"
     ]
    }
   ],
   "source": [
    "typcast_df.select(\n",
    "    [\n",
    "        count(when(col(c).isNull(),c)) for c in typcast_df.columns\n",
    "    ]\n",
    ").show()"
   ]
  },
  {
   "cell_type": "code",
   "execution_count": 34,
   "metadata": {},
   "outputs": [],
   "source": [
    "new_df=dataframe.drop('Outcome')\n",
    "assembler=VectorAssembler(inputCols=new_df.columns,outputCol=\"Diabetes Status\")\n",
    "outcomes=assembler.transform(typcast_df)"
   ]
  },
  {
   "cell_type": "code",
   "execution_count": 35,
   "metadata": {},
   "outputs": [
    {
     "name": "stdout",
     "output_type": "stream",
     "text": [
      "+-----------+-------+-------------+-------------+-------+----+------------------------+----+-------+--------------------+\n",
      "|Pregnancies|Glucose|BloodPressure|SkinThickness|Insulin| BMI|DiabetesPedigreeFunction| Age|Outcome|     Diabetes Status|\n",
      "+-----------+-------+-------------+-------------+-------+----+------------------------+----+-------+--------------------+\n",
      "|        6.0|  148.0|         72.0|         35.0|    0.0|33.6|                   0.627|50.0|    1.0|[6.0,148.0,72.0,3...|\n",
      "|        1.0|   85.0|         66.0|         29.0|    0.0|26.6|                   0.351|31.0|    0.0|[1.0,85.0,66.0,29...|\n",
      "|        8.0|  183.0|         64.0|          0.0|    0.0|23.3|                   0.672|32.0|    1.0|[8.0,183.0,64.0,0...|\n",
      "|        1.0|   89.0|         66.0|         23.0|   94.0|28.1|                   0.167|21.0|    0.0|[1.0,89.0,66.0,23...|\n",
      "|        0.0|  137.0|         40.0|         35.0|  168.0|43.1|                   2.288|33.0|    1.0|[0.0,137.0,40.0,3...|\n",
      "|        5.0|  116.0|         74.0|          0.0|    0.0|25.6|                   0.201|30.0|    0.0|[5.0,116.0,74.0,0...|\n",
      "|        3.0|   78.0|         50.0|         32.0|   88.0|31.0|                   0.248|26.0|    1.0|[3.0,78.0,50.0,32...|\n",
      "|       10.0|  115.0|          0.0|          0.0|    0.0|35.3|                   0.134|29.0|    0.0|[10.0,115.0,0.0,0...|\n",
      "|        2.0|  197.0|         70.0|         45.0|  543.0|30.5|                   0.158|53.0|    1.0|[2.0,197.0,70.0,4...|\n",
      "|        8.0|  125.0|         96.0|          0.0|    0.0| 0.0|                   0.232|54.0|    1.0|[8.0,125.0,96.0,0...|\n",
      "|        4.0|  110.0|         92.0|          0.0|    0.0|37.6|                   0.191|30.0|    0.0|[4.0,110.0,92.0,0...|\n",
      "|       10.0|  168.0|         74.0|          0.0|    0.0|38.0|                   0.537|34.0|    1.0|[10.0,168.0,74.0,...|\n",
      "|       10.0|  139.0|         80.0|          0.0|    0.0|27.1|                   1.441|57.0|    0.0|[10.0,139.0,80.0,...|\n",
      "|        1.0|  189.0|         60.0|         23.0|  846.0|30.1|                   0.398|59.0|    1.0|[1.0,189.0,60.0,2...|\n",
      "|        5.0|  166.0|         72.0|         19.0|  175.0|25.8|                   0.587|51.0|    1.0|[5.0,166.0,72.0,1...|\n",
      "|        7.0|  100.0|          0.0|          0.0|    0.0|30.0|                   0.484|32.0|    1.0|[7.0,100.0,0.0,0....|\n",
      "|        0.0|  118.0|         84.0|         47.0|  230.0|45.8|                   0.551|31.0|    1.0|[0.0,118.0,84.0,4...|\n",
      "|        7.0|  107.0|         74.0|          0.0|    0.0|29.6|                   0.254|31.0|    1.0|[7.0,107.0,74.0,0...|\n",
      "|        1.0|  103.0|         30.0|         38.0|   83.0|43.3|                   0.183|33.0|    0.0|[1.0,103.0,30.0,3...|\n",
      "|        1.0|  115.0|         70.0|         30.0|   96.0|34.6|                   0.529|32.0|    1.0|[1.0,115.0,70.0,3...|\n",
      "+-----------+-------+-------------+-------------+-------+----+------------------------+----+-------+--------------------+\n",
      "only showing top 20 rows\n",
      "\n"
     ]
    }
   ],
   "source": [
    "outcomes.show()\n",
    "data=outcomes.select('')"
   ]
  },
  {
   "cell_type": "code",
   "execution_count": 36,
   "metadata": {},
   "outputs": [
    {
     "name": "stdout",
     "output_type": "stream",
     "text": [
      "+--------------------+-------+\n",
      "|     Diabetes Status|Outcome|\n",
      "+--------------------+-------+\n",
      "|[6.0,148.0,72.0,3...|    1.0|\n",
      "|[1.0,85.0,66.0,29...|    0.0|\n",
      "|[8.0,183.0,64.0,0...|    1.0|\n",
      "|[1.0,89.0,66.0,23...|    0.0|\n",
      "|[0.0,137.0,40.0,3...|    1.0|\n",
      "|[5.0,116.0,74.0,0...|    0.0|\n",
      "|[3.0,78.0,50.0,32...|    1.0|\n",
      "|[10.0,115.0,0.0,0...|    0.0|\n",
      "|[2.0,197.0,70.0,4...|    1.0|\n",
      "|[8.0,125.0,96.0,0...|    1.0|\n",
      "|[4.0,110.0,92.0,0...|    0.0|\n",
      "|[10.0,168.0,74.0,...|    1.0|\n",
      "|[10.0,139.0,80.0,...|    0.0|\n",
      "|[1.0,189.0,60.0,2...|    1.0|\n",
      "|[5.0,166.0,72.0,1...|    1.0|\n",
      "|[7.0,100.0,0.0,0....|    1.0|\n",
      "|[0.0,118.0,84.0,4...|    1.0|\n",
      "|[7.0,107.0,74.0,0...|    1.0|\n",
      "|[1.0,103.0,30.0,3...|    0.0|\n",
      "|[1.0,115.0,70.0,3...|    1.0|\n",
      "+--------------------+-------+\n",
      "only showing top 20 rows\n",
      "\n"
     ]
    }
   ],
   "source": [
    "data=outcomes.select('Diabetes Status','Outcome')\n",
    "data.show()"
   ]
  },
  {
   "cell_type": "code",
   "execution_count": 42,
   "metadata": {},
   "outputs": [
    {
     "name": "stdout",
     "output_type": "stream",
     "text": [
      "+--------------------+-------+\n",
      "|     Diabetes Status|Outcome|\n",
      "+--------------------+-------+\n",
      "|(8,[0,1,6,7],[2.0...|    0.0|\n",
      "|(8,[0,1,6,7],[6.0...|    0.0|\n",
      "|(8,[1,5,6,7],[99....|    0.0|\n",
      "|(8,[1,5,6,7],[117...|    0.0|\n",
      "|(8,[1,5,6,7],[131...|    1.0|\n",
      "|(8,[1,6,7],[94.0,...|    0.0|\n",
      "|[0.0,78.0,88.0,29...|    0.0|\n",
      "|[0.0,86.0,68.0,32...|    0.0|\n",
      "|[0.0,95.0,64.0,39...|    0.0|\n",
      "|[0.0,95.0,80.0,45...|    0.0|\n",
      "|[0.0,95.0,85.0,25...|    1.0|\n",
      "|[0.0,100.0,88.0,6...|    0.0|\n",
      "|[0.0,101.0,62.0,0...|    0.0|\n",
      "|[0.0,101.0,64.0,1...|    0.0|\n",
      "|[0.0,101.0,65.0,2...|    0.0|\n",
      "|[0.0,104.0,64.0,2...|    0.0|\n",
      "|[0.0,104.0,76.0,0...|    0.0|\n",
      "|[0.0,105.0,84.0,0...|    1.0|\n",
      "|[0.0,106.0,70.0,3...|    0.0|\n",
      "|[0.0,109.0,88.0,3...|    1.0|\n",
      "+--------------------+-------+\n",
      "only showing top 20 rows\n",
      "\n"
     ]
    }
   ],
   "source": [
    "train_df,test_df=data.randomSplit([0.7,0.3])\n",
    "test_df.show()"
   ]
  },
  {
   "cell_type": "code",
   "execution_count": 43,
   "metadata": {},
   "outputs": [
    {
     "name": "stdout",
     "output_type": "stream",
     "text": [
      "22/12/30 16:00:42 WARN Instrumentation: [543173b8] regParam is zero, which might cause numerical instability and overfitting.\n"
     ]
    }
   ],
   "source": [
    "linreg=LinearRegression(featuresCol='Diabetes Status',labelCol='Outcome')\n",
    "linear_model=linreg.fit(train_df)"
   ]
  },
  {
   "cell_type": "code",
   "execution_count": 44,
   "metadata": {},
   "outputs": [
    {
     "name": "stdout",
     "output_type": "stream",
     "text": [
      "[0.024868528046727647,0.005998192460555586,-0.002570783342514894,-0.0009172685330821441,-0.00015405663443399193,0.01533065518347958,0.1446635818744563,0.0031260796684757573]  -0.9081425549965205\n"
     ]
    }
   ],
   "source": [
    "print(f'{linear_model.coefficients}  {linear_model.intercept}')\n"
   ]
  },
  {
   "cell_type": "code",
   "execution_count": 45,
   "metadata": {},
   "outputs": [
    {
     "name": "stdout",
     "output_type": "stream",
     "text": [
      "RMSE: 0.39388397146855014, r2 Score: 0.3372073544622778\n"
     ]
    }
   ],
   "source": [
    "trainSummary=linear_model.summary\n",
    "print(f'RMSE: {trainSummary.rootMeanSquaredError}, r2 Score: {trainSummary.r2}')"
   ]
  },
  {
   "cell_type": "code",
   "execution_count": 46,
   "metadata": {},
   "outputs": [
    {
     "name": "stdout",
     "output_type": "stream",
     "text": [
      "+--------------------+--------------------+-------+\n",
      "|          prediction|     Diabetes Status|Outcome|\n",
      "+--------------------+--------------------+-------+\n",
      "|-0.24493193170268035|(8,[0,1,6,7],[2.0...|    0.0|\n",
      "|0.033482041503750115|(8,[0,1,6,7],[6.0...|    0.0|\n",
      "| 0.17431851583002822|(8,[1,5,6,7],[99....|    0.0|\n",
      "|     0.5841960574234|(8,[1,5,6,7],[117...|    0.0|\n",
      "|  0.6602422129974856|(8,[1,5,6,7],[131...|    1.0|\n",
      "|-0.22912659327352602|(8,[1,6,7],[94.0,...|    0.0|\n",
      "|-0.00514266492053...|[0.0,78.0,88.0,29...|    0.0|\n",
      "|  0.0649555051251216|[0.0,86.0,68.0,32...|    0.0|\n",
      "| 0.25067399640965116|[0.0,95.0,64.0,39...|    0.0|\n",
      "| 0.08915873649136663|[0.0,95.0,80.0,45...|    0.0|\n",
      "| 0.09881573561757806|[0.0,95.0,85.0,25...|    1.0|\n",
      "|  0.3470149033150227|[0.0,100.0,88.0,6...|    0.0|\n",
      "| 7.86613520084245E-4|[0.0,101.0,62.0,0...|    0.0|\n",
      "|-0.05840216035399...|[0.0,101.0,64.0,1...|    0.0|\n",
      "|-0.01491640719757...|[0.0,101.0,65.0,2...|    0.0|\n",
      "| 0.07594088152354328|[0.0,104.0,64.0,2...|    0.0|\n",
      "|-0.02902766541893409|[0.0,104.0,76.0,0...|    0.0|\n",
      "| 0.23445977949306673|[0.0,105.0,84.0,0...|    1.0|\n",
      "| 0.25129475434762916|[0.0,106.0,70.0,3...|    0.0|\n",
      "| 0.23263811919732746|[0.0,109.0,88.0,3...|    1.0|\n",
      "+--------------------+--------------------+-------+\n",
      "only showing top 20 rows\n",
      "\n"
     ]
    }
   ],
   "source": [
    "tested_result=linear_model.transform(test_df)\n",
    "tested_result.select('prediction','Diabetes Status','Outcome').show()"
   ]
  },
  {
   "cell_type": "code",
   "execution_count": 47,
   "metadata": {},
   "outputs": [
    {
     "data": {
      "text/plain": [
       "0.18900805159447887"
      ]
     },
     "execution_count": 47,
     "metadata": {},
     "output_type": "execute_result"
    }
   ],
   "source": [
    "from pyspark.ml.evaluation import RegressionEvaluator\n",
    "pred_evalutor=RegressionEvaluator(predictionCol='prediction',labelCol='Outcome',metricName='r2')\n",
    "pred_evalutor.evaluate(tested_result)"
   ]
  },
  {
   "cell_type": "code",
   "execution_count": 48,
   "metadata": {},
   "outputs": [],
   "source": [
    "randomForest=RandomForestRegressor(featuresCol='Diabetes Status',labelCol='Outcome')"
   ]
  },
  {
   "cell_type": "code",
   "execution_count": 50,
   "metadata": {},
   "outputs": [
    {
     "name": "stderr",
     "output_type": "stream",
     "text": [
      "WARNING: An illegal reflective access operation has occurred\n",
      "WARNING: Illegal reflective access by org.apache.spark.util.SizeEstimator$ (file:/home/rohitpatel/Downloads/Set-Ups/spark-3.3.1-bin-hadoop3/jars/spark-core_2.12-3.3.1.jar) to field java.nio.charset.Charset.name\n",
      "WARNING: Please consider reporting this to the maintainers of org.apache.spark.util.SizeEstimator$\n",
      "WARNING: Use --illegal-access=warn to enable warnings of further illegal reflective access operations\n",
      "WARNING: All illegal access operations will be denied in a future release\n"
     ]
    },
    {
     "name": "stdout",
     "output_type": "stream",
     "text": [
      "+--------------------+-------+--------------------+\n",
      "|     Diabetes Status|Outcome|          prediction|\n",
      "+--------------------+-------+--------------------+\n",
      "|(8,[0,1,6,7],[2.0...|    0.0|0.010514132553606236|\n",
      "|(8,[0,1,6,7],[6.0...|    0.0| 0.12291251548552058|\n",
      "|(8,[1,5,6,7],[99....|    0.0|0.060514132553606235|\n",
      "|(8,[1,5,6,7],[117...|    0.0|  0.6753664100160112|\n",
      "|(8,[1,5,6,7],[131...|    1.0|  0.6566529702978386|\n",
      "|(8,[1,6,7],[94.0,...|    0.0|0.010514132553606236|\n",
      "|[0.0,78.0,88.0,29...|    0.0| 0.08269852182195352|\n",
      "|[0.0,86.0,68.0,32...|    0.0| 0.09786809202762711|\n",
      "|[0.0,95.0,64.0,39...|    0.0|  0.0939760102907178|\n",
      "|[0.0,95.0,80.0,45...|    0.0| 0.13525445566399075|\n",
      "|[0.0,95.0,85.0,25...|    1.0| 0.07629908440985789|\n",
      "|[0.0,100.0,88.0,6...|    0.0|  0.2333441712969023|\n",
      "|[0.0,101.0,62.0,0...|    0.0| 0.01780369484316853|\n",
      "|[0.0,101.0,64.0,1...|    0.0| 0.01780369484316853|\n",
      "|[0.0,101.0,65.0,2...|    0.0| 0.01780369484316853|\n",
      "|[0.0,104.0,64.0,2...|    0.0| 0.03542777536968809|\n",
      "|[0.0,104.0,76.0,0...|    0.0|  0.0460841921236658|\n",
      "|[0.0,105.0,84.0,0...|    1.0| 0.24241186684161495|\n",
      "|[0.0,106.0,70.0,3...|    0.0| 0.19313432319705798|\n",
      "|[0.0,109.0,88.0,3...|    1.0|  0.5458838767796924|\n",
      "+--------------------+-------+--------------------+\n",
      "only showing top 20 rows\n",
      "\n"
     ]
    }
   ],
   "source": [
    "ranfor_model=randomForest.fit(train_df)\n",
    "datafromranfor=ranfor_model.transform(test_df)\n",
    "datafromranfor.show()"
   ]
  },
  {
   "cell_type": "code",
   "execution_count": 52,
   "metadata": {},
   "outputs": [
    {
     "data": {
      "text/plain": [
       "0.12732356809767154"
      ]
     },
     "execution_count": 52,
     "metadata": {},
     "output_type": "execute_result"
    }
   ],
   "source": [
    "pred_evalutor=RegressionEvaluator(predictionCol='prediction',labelCol='Outcome',metricName='r2')\n",
    "pred_evalutor.evaluate(datafromranfor)"
   ]
  },
  {
   "cell_type": "code",
   "execution_count": null,
   "metadata": {},
   "outputs": [],
   "source": []
  }
 ],
 "metadata": {
  "kernelspec": {
   "display_name": "Python 3",
   "language": "python",
   "name": "python3"
  },
  "language_info": {
   "codemirror_mode": {
    "name": "ipython",
    "version": 3
   },
   "file_extension": ".py",
   "mimetype": "text/x-python",
   "name": "python",
   "nbconvert_exporter": "python",
   "pygments_lexer": "ipython3",
   "version": "3.10.6 (main, Nov 14 2022, 16:10:14) [GCC 11.3.0]"
  },
  "orig_nbformat": 4,
  "vscode": {
   "interpreter": {
    "hash": "31f2aee4e71d21fbe5cf8b01ff0e069b9275f58929596ceb00d14d90e3e16cd6"
   }
  }
 },
 "nbformat": 4,
 "nbformat_minor": 2
}
