{
 "cells": [
  {
   "cell_type": "code",
   "execution_count": 39,
   "metadata": {},
   "outputs": [],
   "source": [
    "from pyspark.sql import SparkSession\n",
    "from pyspark.ml.feature import VectorAssembler\n",
    "from pyspark.ml.regression import LinearRegression\n",
    "from pyspark.ml.evaluation import RegressionEvaluator\n",
    "from pyspark.sql.functions import col,count,when"
   ]
  },
  {
   "cell_type": "code",
   "execution_count": 40,
   "metadata": {},
   "outputs": [],
   "source": [
    "sparkObj=SparkSession.builder.appName('Linear Regression').getOrCreate()"
   ]
  },
  {
   "cell_type": "code",
   "execution_count": 41,
   "metadata": {},
   "outputs": [
    {
     "name": "stdout",
     "output_type": "stream",
     "text": [
      "+-----------+-------+-------------+-------------+-------+----+------------------------+---+-------+\n",
      "|Pregnancies|Glucose|BloodPressure|SkinThickness|Insulin| BMI|DiabetesPedigreeFunction|Age|Outcome|\n",
      "+-----------+-------+-------------+-------------+-------+----+------------------------+---+-------+\n",
      "|          6|    148|           72|           35|      0|33.6|                   0.627| 50|      1|\n",
      "|          1|     85|           66|           29|      0|26.6|                   0.351| 31|      0|\n",
      "|          8|    183|           64|            0|      0|23.3|                   0.672| 32|      1|\n",
      "|          1|     89|           66|           23|     94|28.1|                   0.167| 21|      0|\n",
      "|          0|    137|           40|           35|    168|43.1|                   2.288| 33|      1|\n",
      "|          5|    116|           74|            0|      0|25.6|                   0.201| 30|      0|\n",
      "|          3|     78|           50|           32|     88|  31|                   0.248| 26|      1|\n",
      "|         10|    115|            0|            0|      0|35.3|                   0.134| 29|      0|\n",
      "|          2|    197|           70|           45|    543|30.5|                   0.158| 53|      1|\n",
      "|          8|    125|           96|            0|      0|   0|                   0.232| 54|      1|\n",
      "|          4|    110|           92|            0|      0|37.6|                   0.191| 30|      0|\n",
      "|         10|    168|           74|            0|      0|  38|                   0.537| 34|      1|\n",
      "|         10|    139|           80|            0|      0|27.1|                   1.441| 57|      0|\n",
      "|          1|    189|           60|           23|    846|30.1|                   0.398| 59|      1|\n",
      "|          5|    166|           72|           19|    175|25.8|                   0.587| 51|      1|\n",
      "|          7|    100|            0|            0|      0|  30|                   0.484| 32|      1|\n",
      "|          0|    118|           84|           47|    230|45.8|                   0.551| 31|      1|\n",
      "|          7|    107|           74|            0|      0|29.6|                   0.254| 31|      1|\n",
      "|          1|    103|           30|           38|     83|43.3|                   0.183| 33|      0|\n",
      "|          1|    115|           70|           30|     96|34.6|                   0.529| 32|      1|\n",
      "+-----------+-------+-------------+-------------+-------+----+------------------------+---+-------+\n",
      "only showing top 20 rows\n",
      "\n"
     ]
    }
   ],
   "source": [
    "dataframe=sparkObj.read.csv('../diabetes.csv',header=True)\n",
    "dataframe.show()"
   ]
  },
  {
   "cell_type": "code",
   "execution_count": 42,
   "metadata": {},
   "outputs": [
    {
     "name": "stdout",
     "output_type": "stream",
     "text": [
      "root\n",
      " |-- Pregnancies: float (nullable = true)\n",
      " |-- Glucose: float (nullable = true)\n",
      " |-- BloodPressure: float (nullable = true)\n",
      " |-- SkinThickness: float (nullable = true)\n",
      " |-- Insulin: float (nullable = true)\n",
      " |-- BMI: float (nullable = true)\n",
      " |-- DiabetesPedigreeFunction: float (nullable = true)\n",
      " |-- Age: float (nullable = true)\n",
      " |-- Outcome: float (nullable = true)\n",
      "\n"
     ]
    }
   ],
   "source": [
    "typecaseDF=dataframe.select(\n",
    "    *(col(c).cast('float') for c in dataframe.columns)\n",
    ")\n",
    "typecaseDF.printSchema()"
   ]
  },
  {
   "cell_type": "code",
   "execution_count": 43,
   "metadata": {},
   "outputs": [],
   "source": [
    "temp_df=typecaseDF.drop('Outcome')\n",
    "assembler = VectorAssembler(inputCols=temp_df.columns,outputCol='Status')\n",
    "data=assembler.transform(typecaseDF)"
   ]
  },
  {
   "cell_type": "code",
   "execution_count": 44,
   "metadata": {},
   "outputs": [
    {
     "name": "stdout",
     "output_type": "stream",
     "text": [
      "+-----------+-------+-------------+-------------+-------+----+------------------------+----+-------+--------------------+\n",
      "|Pregnancies|Glucose|BloodPressure|SkinThickness|Insulin| BMI|DiabetesPedigreeFunction| Age|Outcome|              Status|\n",
      "+-----------+-------+-------------+-------------+-------+----+------------------------+----+-------+--------------------+\n",
      "|        6.0|  148.0|         72.0|         35.0|    0.0|33.6|                   0.627|50.0|    1.0|[6.0,148.0,72.0,3...|\n",
      "|        1.0|   85.0|         66.0|         29.0|    0.0|26.6|                   0.351|31.0|    0.0|[1.0,85.0,66.0,29...|\n",
      "|        8.0|  183.0|         64.0|          0.0|    0.0|23.3|                   0.672|32.0|    1.0|[8.0,183.0,64.0,0...|\n",
      "|        1.0|   89.0|         66.0|         23.0|   94.0|28.1|                   0.167|21.0|    0.0|[1.0,89.0,66.0,23...|\n",
      "|        0.0|  137.0|         40.0|         35.0|  168.0|43.1|                   2.288|33.0|    1.0|[0.0,137.0,40.0,3...|\n",
      "|        5.0|  116.0|         74.0|          0.0|    0.0|25.6|                   0.201|30.0|    0.0|[5.0,116.0,74.0,0...|\n",
      "|        3.0|   78.0|         50.0|         32.0|   88.0|31.0|                   0.248|26.0|    1.0|[3.0,78.0,50.0,32...|\n",
      "|       10.0|  115.0|          0.0|          0.0|    0.0|35.3|                   0.134|29.0|    0.0|[10.0,115.0,0.0,0...|\n",
      "|        2.0|  197.0|         70.0|         45.0|  543.0|30.5|                   0.158|53.0|    1.0|[2.0,197.0,70.0,4...|\n",
      "|        8.0|  125.0|         96.0|          0.0|    0.0| 0.0|                   0.232|54.0|    1.0|[8.0,125.0,96.0,0...|\n",
      "|        4.0|  110.0|         92.0|          0.0|    0.0|37.6|                   0.191|30.0|    0.0|[4.0,110.0,92.0,0...|\n",
      "|       10.0|  168.0|         74.0|          0.0|    0.0|38.0|                   0.537|34.0|    1.0|[10.0,168.0,74.0,...|\n",
      "|       10.0|  139.0|         80.0|          0.0|    0.0|27.1|                   1.441|57.0|    0.0|[10.0,139.0,80.0,...|\n",
      "|        1.0|  189.0|         60.0|         23.0|  846.0|30.1|                   0.398|59.0|    1.0|[1.0,189.0,60.0,2...|\n",
      "|        5.0|  166.0|         72.0|         19.0|  175.0|25.8|                   0.587|51.0|    1.0|[5.0,166.0,72.0,1...|\n",
      "|        7.0|  100.0|          0.0|          0.0|    0.0|30.0|                   0.484|32.0|    1.0|[7.0,100.0,0.0,0....|\n",
      "|        0.0|  118.0|         84.0|         47.0|  230.0|45.8|                   0.551|31.0|    1.0|[0.0,118.0,84.0,4...|\n",
      "|        7.0|  107.0|         74.0|          0.0|    0.0|29.6|                   0.254|31.0|    1.0|[7.0,107.0,74.0,0...|\n",
      "|        1.0|  103.0|         30.0|         38.0|   83.0|43.3|                   0.183|33.0|    0.0|[1.0,103.0,30.0,3...|\n",
      "|        1.0|  115.0|         70.0|         30.0|   96.0|34.6|                   0.529|32.0|    1.0|[1.0,115.0,70.0,3...|\n",
      "+-----------+-------+-------------+-------------+-------+----+------------------------+----+-------+--------------------+\n",
      "only showing top 20 rows\n",
      "\n"
     ]
    }
   ],
   "source": [
    "data.show()"
   ]
  },
  {
   "cell_type": "code",
   "execution_count": 45,
   "metadata": {},
   "outputs": [],
   "source": [
    "from pyspark.ml.feature import StandardScaler"
   ]
  },
  {
   "cell_type": "code",
   "execution_count": 46,
   "metadata": {},
   "outputs": [
    {
     "name": "stdout",
     "output_type": "stream",
     "text": [
      "root\n",
      " |-- Pregnancies: float (nullable = true)\n",
      " |-- Glucose: float (nullable = true)\n",
      " |-- BloodPressure: float (nullable = true)\n",
      " |-- SkinThickness: float (nullable = true)\n",
      " |-- Insulin: float (nullable = true)\n",
      " |-- BMI: float (nullable = true)\n",
      " |-- DiabetesPedigreeFunction: float (nullable = true)\n",
      " |-- Age: float (nullable = true)\n",
      " |-- Outcome: float (nullable = true)\n",
      " |-- Status: vector (nullable = true)\n",
      " |-- Scaled Status: vector (nullable = true)\n",
      "\n"
     ]
    }
   ],
   "source": [
    "standardScalar=StandardScaler().setInputCol('Status').setOutputCol('Scaled Status')\n",
    "data=standardScalar.fit(data).transform(data)\n",
    "data.printSchema()"
   ]
  },
  {
   "cell_type": "code",
   "execution_count": 47,
   "metadata": {},
   "outputs": [
    {
     "name": "stdout",
     "output_type": "stream",
     "text": [
      "+--------------------+-------+\n",
      "|       Scaled status|Outcome|\n",
      "+--------------------+-------+\n",
      "|[1.78063837321943...|    1.0|\n",
      "|[0.29677306220323...|    0.0|\n",
      "|[2.37418449762590...|    1.0|\n",
      "|[0.29677306220323...|    0.0|\n",
      "|[0.0,4.2849165233...|    1.0|\n",
      "|[1.48386531101619...|    0.0|\n",
      "|[0.89031918660971...|    1.0|\n",
      "|[2.96773062203238...|    0.0|\n",
      "|[0.59354612440647...|    1.0|\n",
      "|[2.37418449762590...|    1.0|\n",
      "|[1.18709224881295...|    0.0|\n",
      "|[2.96773062203238...|    1.0|\n",
      "|[2.96773062203238...|    0.0|\n",
      "|[0.29677306220323...|    1.0|\n",
      "|[1.48386531101619...|    1.0|\n",
      "|[2.07741143542266...|    1.0|\n",
      "|[0.0,3.6906580274...|    1.0|\n",
      "|[2.07741143542266...|    1.0|\n",
      "|[0.29677306220323...|    0.0|\n",
      "|[0.29677306220323...|    1.0|\n",
      "+--------------------+-------+\n",
      "only showing top 20 rows\n",
      "\n"
     ]
    }
   ],
   "source": [
    "assembled_data = data.select(\"Scaled status\",\"Outcome\")\n",
    "assembled_data.show()"
   ]
  },
  {
   "cell_type": "code",
   "execution_count": 48,
   "metadata": {},
   "outputs": [],
   "source": [
    "train,test=assembled_data.randomSplit([0.7,0.3])"
   ]
  },
  {
   "cell_type": "code",
   "execution_count": 49,
   "metadata": {},
   "outputs": [
    {
     "name": "stdout",
     "output_type": "stream",
     "text": [
      "22/12/30 18:42:23 WARN Instrumentation: [acaa69df] regParam is zero, which might cause numerical instability and overfitting.\n"
     ]
    }
   ],
   "source": [
    "lin_reg=LinearRegression(featuresCol='Scaled status',labelCol='Outcome',maxIter=40)\n",
    "model=lin_reg.fit(train)"
   ]
  },
  {
   "cell_type": "code",
   "execution_count": 50,
   "metadata": {},
   "outputs": [
    {
     "name": "stdout",
     "output_type": "stream",
     "text": [
      "+--------------------+-------+--------------------+\n",
      "|       Scaled status|Outcome|          prediction|\n",
      "+--------------------+-------+--------------------+\n",
      "|(8,[0,1,6,7],[0.5...|    0.0|-0.27682773460324106|\n",
      "|(8,[0,1,6,7],[0.5...|    0.0|-0.19488803533254073|\n",
      "|(8,[0,1,6,7],[0.8...|    0.0|-0.21235248841212073|\n",
      "|(8,[1,5,6,7],[2.2...|    0.0|-0.01251871137070...|\n",
      "|(8,[1,5,6,7],[3.6...|    0.0|  0.5221458359015433|\n",
      "|(8,[1,5,6,7],[3.7...|    1.0| 0.35617677787767443|\n",
      "|(8,[1,5,6,7],[4.0...|    1.0|  0.5841729420390375|\n",
      "|(8,[1,5,6,7],[4.5...|    1.0|  0.7374954108068862|\n",
      "|[0.0,1.7827754878...|    0.0|-0.07728844364633691|\n",
      "|[0.0,2.4395875096...|    0.0|0.018055646842821127|\n",
      "|[0.0,2.6272480873...|    0.0| 0.10772234284331939|\n",
      "|[0.0,2.8461854279...|    0.0|  0.1719339802119063|\n",
      "|[0.0,2.9087389538...|    0.0| 0.07532798178006272|\n",
      "|[0.0,2.9712924797...|    0.0|  0.2561544376701571|\n",
      "|[0.0,2.9712924797...|    0.0| 0.11972629733517293|\n",
      "|[0.0,3.1276762944...|    0.0|  0.1260336795065976|\n",
      "|[0.0,3.1589530573...|    0.0|0.010613235019974576|\n",
      "|[0.0,3.1589530573...|    0.0|0.015283479980932824|\n",
      "|[0.0,3.2527833462...|    0.0|  0.1063978662747137|\n",
      "|[0.0,3.2840601091...|    1.0| 0.20270684892153235|\n",
      "+--------------------+-------+--------------------+\n",
      "only showing top 20 rows\n",
      "\n"
     ]
    }
   ],
   "source": [
    "predict_test=model.transform(test)\n",
    "predict_test.show()"
   ]
  },
  {
   "cell_type": "code",
   "execution_count": 51,
   "metadata": {},
   "outputs": [
    {
     "name": "stdout",
     "output_type": "stream",
     "text": [
      "+-------+--------------------+\n",
      "|Outcome|          prediction|\n",
      "+-------+--------------------+\n",
      "|    0.0|-0.27682773460324106|\n",
      "|    0.0|-0.19488803533254073|\n",
      "|    0.0|-0.21235248841212073|\n",
      "|    0.0|-0.01251871137070...|\n",
      "|    0.0|  0.5221458359015433|\n",
      "|    1.0| 0.35617677787767443|\n",
      "|    1.0|  0.5841729420390375|\n",
      "|    1.0|  0.7374954108068862|\n",
      "|    0.0|-0.07728844364633691|\n",
      "|    0.0|0.018055646842821127|\n",
      "+-------+--------------------+\n",
      "only showing top 10 rows\n",
      "\n"
     ]
    }
   ],
   "source": [
    "predict_test.select(\"Outcome\",\"prediction\").show(10)"
   ]
  },
  {
   "cell_type": "code",
   "execution_count": 52,
   "metadata": {},
   "outputs": [
    {
     "data": {
      "text/plain": [
       "0.3247512411886444"
      ]
     },
     "execution_count": 52,
     "metadata": {},
     "output_type": "execute_result"
    }
   ],
   "source": [
    "pred_evalutor=RegressionEvaluator(predictionCol='prediction',labelCol='Outcome',metricName='r2')\n",
    "pred_evalutor.evaluate(predict_test)"
   ]
  },
  {
   "cell_type": "code",
   "execution_count": 53,
   "metadata": {},
   "outputs": [],
   "source": [
    "sparkObj.stop()"
   ]
  }
 ],
 "metadata": {
  "kernelspec": {
   "display_name": "Python 3",
   "language": "python",
   "name": "python3"
  },
  "language_info": {
   "codemirror_mode": {
    "name": "ipython",
    "version": 3
   },
   "file_extension": ".py",
   "mimetype": "text/x-python",
   "name": "python",
   "nbconvert_exporter": "python",
   "pygments_lexer": "ipython3",
   "version": "3.10.6"
  },
  "orig_nbformat": 4,
  "vscode": {
   "interpreter": {
    "hash": "31f2aee4e71d21fbe5cf8b01ff0e069b9275f58929596ceb00d14d90e3e16cd6"
   }
  }
 },
 "nbformat": 4,
 "nbformat_minor": 2
}
